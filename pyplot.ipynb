{
 "cells": [
  {
   "cell_type": "markdown",
   "metadata": {},
   "source": [
    "# Overview of Matplotlib \n",
    "\n",
    "This Jupyter notebook will set out to firstly provide a clear and concise overview of matplotlib.pyplot. Once this is done, I will then put this overview into practice with an in-depth exploration of three interesting plots within matplotlib. \n",
    "\n",
    "![](https://ehikioya.com/wp-content/uploads/2020/02/logo2_compressed.png)\n",
    "\n",
    "[Matplotlib Documentation](https://matplotlib.org/stable/contents.html) \n",
    "\n",
    "***\n",
    "\n",
    "### What  is matplotlib? \n",
    "\n",
    "matplotlib is popular Python package used for data representation and visualisation. It is a cross-platform library used for making 2D plots in arrays [1]. Matplotlib was developed and created by John D Hunt, and is an open source, free package [2]. The source code is available at this github repository [Matplotlib source code](https://github.com/matplotlib/matplotlib) \n",
    "\n",
    "For anybody interested, further information and history about matplotlib can be found [here](https://matplotlib.org/stable/users/history.html) [3].\n",
    "\n",
    "***\n",
    "\n",
    "### Installing & Importing matplotlib \n",
    "\n",
    "_Installation_ \n",
    "\n",
    "The matplotlib package is available as a wheel package within python. It can be instaled by running the below command [4]: \n",
    "\n",
    "```\n",
    "python -m pip install -U pip\n",
    "python -m pip install -U matplotlib\n",
    "```\n",
    "\n",
    "_Importing_"
   ]
  },
  {
   "cell_type": "code",
   "execution_count": null,
   "metadata": {},
   "outputs": [],
   "source": []
  },
  {
   "cell_type": "code",
   "execution_count": null,
   "metadata": {},
   "outputs": [],
   "source": []
  },
  {
   "cell_type": "code",
   "execution_count": null,
   "metadata": {},
   "outputs": [],
   "source": []
  },
  {
   "cell_type": "code",
   "execution_count": null,
   "metadata": {},
   "outputs": [],
   "source": []
  },
  {
   "cell_type": "code",
   "execution_count": null,
   "metadata": {},
   "outputs": [],
   "source": []
  },
  {
   "cell_type": "code",
   "execution_count": null,
   "metadata": {},
   "outputs": [],
   "source": []
  },
  {
   "cell_type": "markdown",
   "metadata": {},
   "source": [
    "## References\n",
    "\n",
    " - https://www.tutorialspoint.com/matplotlib/matplotlib_introduction.htm [1] \n",
    " - https://www.w3schools.com/python/matplotlib_intro.asp [2]\n",
    " - https://matplotlib.org/stable/users/history.html [3]\n",
    " - https://matplotlib.org/stable/users/installing.html [4]\n",
    "\n"
   ]
  },
  {
   "cell_type": "code",
   "execution_count": null,
   "metadata": {},
   "outputs": [],
   "source": []
  }
 ],
 "metadata": {
  "kernelspec": {
   "display_name": "Python 3",
   "language": "python",
   "name": "python3"
  },
  "language_info": {
   "codemirror_mode": {
    "name": "ipython",
    "version": 3
   },
   "file_extension": ".py",
   "mimetype": "text/x-python",
   "name": "python",
   "nbconvert_exporter": "python",
   "pygments_lexer": "ipython3",
   "version": "3.8.5"
  }
 },
 "nbformat": 4,
 "nbformat_minor": 4
}
