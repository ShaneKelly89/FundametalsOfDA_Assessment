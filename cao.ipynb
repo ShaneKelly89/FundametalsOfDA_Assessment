{
 "cells": [
  {
   "cell_type": "markdown",
   "metadata": {},
   "source": [
    "# CAO Points Notebook \n",
    "\n",
    "*** \n",
    "\n",
    "The first section within this notebook will load the CAO point for the years 2021, 2020, & 2019 and provide a clear and concise overview of how to do so.\n",
    "\n",
    "***\n",
    "\n",
    "## Loading the data"
   ]
  },
  {
   "cell_type": "code",
   "execution_count": 1,
   "metadata": {},
   "outputs": [],
   "source": [
    "# Convenient HTTP requests\n",
    "import requests as rq\n",
    "# Importing regular expressions\n",
    "import re\n",
    "import datetime as dt\n",
    "import pandas as pd\n",
    "import urllib.request as urlrq\n",
    "import matplotlib.pyplot as plt \n"
   ]
  },
  {
   "cell_type": "code",
   "execution_count": 2,
   "metadata": {},
   "outputs": [],
   "source": [
    "#current date and time.\n",
    "now = dt.datetime.now()\n",
    "\n",
    "# Format the above as a string.\n",
    "nowstr = now.strftime('%Y%m%d_%H%M%S')"
   ]
  },
  {
   "cell_type": "markdown",
   "metadata": {},
   "source": [
    "## 2021 Data "
   ]
  },
  {
   "cell_type": "code",
   "execution_count": 3,
   "metadata": {},
   "outputs": [
    {
     "data": {
      "text/plain": [
       "<Response [200]>"
      ]
     },
     "execution_count": 3,
     "metadata": {},
     "output_type": "execute_result"
    }
   ],
   "source": [
    "# First need to use 'requests' to pull the 2021\n",
    "resp = rq.get('http://www2.cao.ie/points/l8.php')\n",
    "\n",
    "# check\n",
    "resp"
   ]
  },
  {
   "cell_type": "markdown",
   "metadata": {},
   "source": [
    "### Saving the original data set \n",
    "\n",
    "***"
   ]
  },
  {
   "cell_type": "code",
   "execution_count": 4,
   "metadata": {},
   "outputs": [],
   "source": [
    "path = 'data/original_cao2021_' +  nowstr + '.html'"
   ]
  },
  {
   "cell_type": "code",
   "execution_count": 5,
   "metadata": {},
   "outputs": [],
   "source": [
    "# the server uses the wrong encoding, fixing it.\n",
    "\n",
    "original_encoding = resp.encoding\n",
    "#changing it to cp1252\n",
    "\n",
    "resp.encoding = 'cp1252'\n",
    "\n",
    "# save the original file\n",
    "\n",
    "with open(path, 'w') as f:\n",
    "    f.write(resp.text)"
   ]
  },
  {
   "cell_type": "markdown",
   "metadata": {},
   "source": [
    "### Using regular expression"
   ]
  },
  {
   "cell_type": "code",
   "execution_count": 6,
   "metadata": {},
   "outputs": [],
   "source": [
    "#compile regular expression for matching lines. \n",
    "# this will make the code below more efficient \n",
    "re_course = re.compile(r'([A-Z]{2}[0-9]{3})  (.*)([0-9]{3})(\\*?) *')"
   ]
  },
  {
   "cell_type": "code",
   "execution_count": 7,
   "metadata": {
    "scrolled": true
   },
   "outputs": [
    {
     "name": "stdout",
     "output_type": "stream",
     "text": [
      "The total number of lines is 922.\n"
     ]
    }
   ],
   "source": [
    "path = 'data/cao2021_' +  nowstr + '.csv'\n",
    "\n",
    "no_lines = 0 \n",
    "#looping through the lines of the response content.\n",
    "with open(path, 'w') as f:\n",
    "\n",
    "    for line in resp.iter_lines():\n",
    "        dline = line.decode('cp1252')\n",
    "    # cleaning the data to get only the lines we need, which are the ones representing courses.\n",
    "        if re_course.fullmatch(dline):\n",
    "            no_lines = no_lines + 1\n",
    "            #print(line)\n",
    "            csv_version = re_course.sub(r'\\1,\\2,\\3,\\4', dline)\n",
    "            #print(csv_version)\n",
    "            #split the line on two or more spaces\n",
    "            linesplit = re.split(' +,', dline)\n",
    "            #print(','.join(linesplit))\n",
    "            f.write(','.join(linesplit) + '\\n')\n",
    "print(f\"The total number of lines is {no_lines}.\")"
   ]
  },
  {
   "cell_type": "code",
   "execution_count": null,
   "metadata": {},
   "outputs": [],
   "source": []
  },
  {
   "cell_type": "markdown",
   "metadata": {},
   "source": [
    "<br>\n",
    "\n",
    "## 2020 Points"
   ]
  },
  {
   "cell_type": "code",
   "execution_count": null,
   "metadata": {},
   "outputs": [],
   "source": []
  },
  {
   "cell_type": "markdown",
   "metadata": {},
   "source": [
    "### Saving original file"
   ]
  },
  {
   "cell_type": "code",
   "execution_count": 8,
   "metadata": {},
   "outputs": [],
   "source": [
    "path = 'data/original_cao2020_' +  nowstr + '.xlsx'"
   ]
  },
  {
   "cell_type": "code",
   "execution_count": 9,
   "metadata": {},
   "outputs": [
    {
     "data": {
      "text/plain": [
       "('data/original_cao2020_20211122_121117.xlsx',\n",
       " <http.client.HTTPMessage at 0x221a0c943a0>)"
      ]
     },
     "execution_count": 9,
     "metadata": {},
     "output_type": "execute_result"
    }
   ],
   "source": [
    "urlrq.urlretrieve('http://www2.cao.ie/points/CAOPointsCharts2020.xlsx', path)"
   ]
  },
  {
   "cell_type": "code",
   "execution_count": null,
   "metadata": {},
   "outputs": [],
   "source": []
  },
  {
   "cell_type": "code",
   "execution_count": null,
   "metadata": {},
   "outputs": [],
   "source": []
  },
  {
   "cell_type": "code",
   "execution_count": null,
   "metadata": {},
   "outputs": [],
   "source": []
  },
  {
   "cell_type": "code",
   "execution_count": 10,
   "metadata": {},
   "outputs": [],
   "source": [
    "# download and parse the excel spreadsheet\n",
    "#skiprow to skip the first 10 rows\n",
    "df = pd.read_excel('http://www2.cao.ie/points/CAOPointsCharts2020.xlsx', skiprows=10)"
   ]
  },
  {
   "cell_type": "code",
   "execution_count": 11,
   "metadata": {},
   "outputs": [
    {
     "data": {
      "text/html": [
       "<div>\n",
       "<style scoped>\n",
       "    .dataframe tbody tr th:only-of-type {\n",
       "        vertical-align: middle;\n",
       "    }\n",
       "\n",
       "    .dataframe tbody tr th {\n",
       "        vertical-align: top;\n",
       "    }\n",
       "\n",
       "    .dataframe thead th {\n",
       "        text-align: right;\n",
       "    }\n",
       "</style>\n",
       "<table border=\"1\" class=\"dataframe\">\n",
       "  <thead>\n",
       "    <tr style=\"text-align: right;\">\n",
       "      <th></th>\n",
       "      <th>CATEGORY (i.e.ISCED description)</th>\n",
       "      <th>COURSE TITLE</th>\n",
       "      <th>COURSE CODE2</th>\n",
       "      <th>R1 POINTS</th>\n",
       "      <th>R1 Random *</th>\n",
       "      <th>R2 POINTS</th>\n",
       "      <th>R2 Random*</th>\n",
       "      <th>EOS</th>\n",
       "      <th>EOS Random *</th>\n",
       "      <th>EOS Mid-point</th>\n",
       "      <th>...</th>\n",
       "      <th>avp</th>\n",
       "      <th>v</th>\n",
       "      <th>Column1</th>\n",
       "      <th>Column2</th>\n",
       "      <th>Column3</th>\n",
       "      <th>Column4</th>\n",
       "      <th>Column5</th>\n",
       "      <th>Column6</th>\n",
       "      <th>Column7</th>\n",
       "      <th>Column8</th>\n",
       "    </tr>\n",
       "  </thead>\n",
       "  <tbody>\n",
       "    <tr>\n",
       "      <th>0</th>\n",
       "      <td>Business and administration</td>\n",
       "      <td>International Business</td>\n",
       "      <td>AC120</td>\n",
       "      <td>209</td>\n",
       "      <td>NaN</td>\n",
       "      <td>NaN</td>\n",
       "      <td>NaN</td>\n",
       "      <td>209</td>\n",
       "      <td>NaN</td>\n",
       "      <td>280</td>\n",
       "      <td>...</td>\n",
       "      <td>NaN</td>\n",
       "      <td>NaN</td>\n",
       "      <td>NaN</td>\n",
       "      <td>NaN</td>\n",
       "      <td>NaN</td>\n",
       "      <td>NaN</td>\n",
       "      <td>NaN</td>\n",
       "      <td>NaN</td>\n",
       "      <td>NaN</td>\n",
       "      <td>NaN</td>\n",
       "    </tr>\n",
       "    <tr>\n",
       "      <th>1</th>\n",
       "      <td>Humanities (except languages)</td>\n",
       "      <td>Liberal Arts</td>\n",
       "      <td>AC137</td>\n",
       "      <td>252</td>\n",
       "      <td>NaN</td>\n",
       "      <td>NaN</td>\n",
       "      <td>NaN</td>\n",
       "      <td>252</td>\n",
       "      <td>NaN</td>\n",
       "      <td>270</td>\n",
       "      <td>...</td>\n",
       "      <td>NaN</td>\n",
       "      <td>NaN</td>\n",
       "      <td>NaN</td>\n",
       "      <td>NaN</td>\n",
       "      <td>NaN</td>\n",
       "      <td>NaN</td>\n",
       "      <td>NaN</td>\n",
       "      <td>NaN</td>\n",
       "      <td>NaN</td>\n",
       "      <td>NaN</td>\n",
       "    </tr>\n",
       "    <tr>\n",
       "      <th>2</th>\n",
       "      <td>Arts</td>\n",
       "      <td>First Year Art &amp; Design (Common Entry,portfolio)</td>\n",
       "      <td>AD101</td>\n",
       "      <td>#+matric</td>\n",
       "      <td>NaN</td>\n",
       "      <td>NaN</td>\n",
       "      <td>NaN</td>\n",
       "      <td>#+matric</td>\n",
       "      <td>NaN</td>\n",
       "      <td>#+matric</td>\n",
       "      <td>...</td>\n",
       "      <td>NaN</td>\n",
       "      <td>NaN</td>\n",
       "      <td>NaN</td>\n",
       "      <td>NaN</td>\n",
       "      <td>NaN</td>\n",
       "      <td>NaN</td>\n",
       "      <td>NaN</td>\n",
       "      <td>NaN</td>\n",
       "      <td>NaN</td>\n",
       "      <td>NaN</td>\n",
       "    </tr>\n",
       "    <tr>\n",
       "      <th>3</th>\n",
       "      <td>Arts</td>\n",
       "      <td>Graphic Design and Moving Image Design (portfo...</td>\n",
       "      <td>AD102</td>\n",
       "      <td>#+matric</td>\n",
       "      <td>NaN</td>\n",
       "      <td>NaN</td>\n",
       "      <td>NaN</td>\n",
       "      <td>#+matric</td>\n",
       "      <td>NaN</td>\n",
       "      <td>#+matric</td>\n",
       "      <td>...</td>\n",
       "      <td>NaN</td>\n",
       "      <td>NaN</td>\n",
       "      <td>NaN</td>\n",
       "      <td>NaN</td>\n",
       "      <td>NaN</td>\n",
       "      <td>NaN</td>\n",
       "      <td>NaN</td>\n",
       "      <td>NaN</td>\n",
       "      <td>NaN</td>\n",
       "      <td>NaN</td>\n",
       "    </tr>\n",
       "    <tr>\n",
       "      <th>4</th>\n",
       "      <td>Arts</td>\n",
       "      <td>Textile &amp; Surface Design and Jewellery &amp; Objec...</td>\n",
       "      <td>AD103</td>\n",
       "      <td>#+matric</td>\n",
       "      <td>NaN</td>\n",
       "      <td>NaN</td>\n",
       "      <td>NaN</td>\n",
       "      <td>#+matric</td>\n",
       "      <td>NaN</td>\n",
       "      <td>#+matric</td>\n",
       "      <td>...</td>\n",
       "      <td>NaN</td>\n",
       "      <td>NaN</td>\n",
       "      <td>NaN</td>\n",
       "      <td>NaN</td>\n",
       "      <td>NaN</td>\n",
       "      <td>NaN</td>\n",
       "      <td>NaN</td>\n",
       "      <td>NaN</td>\n",
       "      <td>NaN</td>\n",
       "      <td>NaN</td>\n",
       "    </tr>\n",
       "    <tr>\n",
       "      <th>...</th>\n",
       "      <td>...</td>\n",
       "      <td>...</td>\n",
       "      <td>...</td>\n",
       "      <td>...</td>\n",
       "      <td>...</td>\n",
       "      <td>...</td>\n",
       "      <td>...</td>\n",
       "      <td>...</td>\n",
       "      <td>...</td>\n",
       "      <td>...</td>\n",
       "      <td>...</td>\n",
       "      <td>...</td>\n",
       "      <td>...</td>\n",
       "      <td>...</td>\n",
       "      <td>...</td>\n",
       "      <td>...</td>\n",
       "      <td>...</td>\n",
       "      <td>...</td>\n",
       "      <td>...</td>\n",
       "      <td>...</td>\n",
       "      <td>...</td>\n",
       "    </tr>\n",
       "    <tr>\n",
       "      <th>1459</th>\n",
       "      <td>Manufacturing and processing</td>\n",
       "      <td>Manufacturing Engineering</td>\n",
       "      <td>WD208</td>\n",
       "      <td>188</td>\n",
       "      <td>NaN</td>\n",
       "      <td>NaN</td>\n",
       "      <td>NaN</td>\n",
       "      <td>188</td>\n",
       "      <td>NaN</td>\n",
       "      <td>339</td>\n",
       "      <td>...</td>\n",
       "      <td>NaN</td>\n",
       "      <td>NaN</td>\n",
       "      <td>NaN</td>\n",
       "      <td>NaN</td>\n",
       "      <td>NaN</td>\n",
       "      <td>NaN</td>\n",
       "      <td>NaN</td>\n",
       "      <td>NaN</td>\n",
       "      <td>NaN</td>\n",
       "      <td>NaN</td>\n",
       "    </tr>\n",
       "    <tr>\n",
       "      <th>1460</th>\n",
       "      <td>Information and Communication Technologies (ICTs)</td>\n",
       "      <td>Software Systems Development</td>\n",
       "      <td>WD210</td>\n",
       "      <td>279</td>\n",
       "      <td>NaN</td>\n",
       "      <td>NaN</td>\n",
       "      <td>NaN</td>\n",
       "      <td>279</td>\n",
       "      <td>NaN</td>\n",
       "      <td>337</td>\n",
       "      <td>...</td>\n",
       "      <td>NaN</td>\n",
       "      <td>NaN</td>\n",
       "      <td>NaN</td>\n",
       "      <td>NaN</td>\n",
       "      <td>NaN</td>\n",
       "      <td>NaN</td>\n",
       "      <td>NaN</td>\n",
       "      <td>NaN</td>\n",
       "      <td>NaN</td>\n",
       "      <td>NaN</td>\n",
       "    </tr>\n",
       "    <tr>\n",
       "      <th>1461</th>\n",
       "      <td>Information and Communication Technologies (ICTs)</td>\n",
       "      <td>Creative Computing</td>\n",
       "      <td>WD211</td>\n",
       "      <td>271</td>\n",
       "      <td>NaN</td>\n",
       "      <td>NaN</td>\n",
       "      <td>NaN</td>\n",
       "      <td>271</td>\n",
       "      <td>NaN</td>\n",
       "      <td>318</td>\n",
       "      <td>...</td>\n",
       "      <td>NaN</td>\n",
       "      <td>NaN</td>\n",
       "      <td>NaN</td>\n",
       "      <td>NaN</td>\n",
       "      <td>NaN</td>\n",
       "      <td>NaN</td>\n",
       "      <td>NaN</td>\n",
       "      <td>NaN</td>\n",
       "      <td>NaN</td>\n",
       "      <td>NaN</td>\n",
       "    </tr>\n",
       "    <tr>\n",
       "      <th>1462</th>\n",
       "      <td>Personal services</td>\n",
       "      <td>Recreation and Sport Management</td>\n",
       "      <td>WD212</td>\n",
       "      <td>270</td>\n",
       "      <td>NaN</td>\n",
       "      <td>NaN</td>\n",
       "      <td>NaN</td>\n",
       "      <td>270</td>\n",
       "      <td>NaN</td>\n",
       "      <td>349</td>\n",
       "      <td>...</td>\n",
       "      <td>NaN</td>\n",
       "      <td>NaN</td>\n",
       "      <td>NaN</td>\n",
       "      <td>NaN</td>\n",
       "      <td>NaN</td>\n",
       "      <td>NaN</td>\n",
       "      <td>NaN</td>\n",
       "      <td>NaN</td>\n",
       "      <td>NaN</td>\n",
       "      <td>NaN</td>\n",
       "    </tr>\n",
       "    <tr>\n",
       "      <th>1463</th>\n",
       "      <td>Engineering and engineering trades</td>\n",
       "      <td>Mechanical and Manufacturing Engineering</td>\n",
       "      <td>WD230</td>\n",
       "      <td>253</td>\n",
       "      <td>NaN</td>\n",
       "      <td>NaN</td>\n",
       "      <td>NaN</td>\n",
       "      <td>253</td>\n",
       "      <td>NaN</td>\n",
       "      <td>369</td>\n",
       "      <td>...</td>\n",
       "      <td>NaN</td>\n",
       "      <td>NaN</td>\n",
       "      <td>NaN</td>\n",
       "      <td>NaN</td>\n",
       "      <td>NaN</td>\n",
       "      <td>NaN</td>\n",
       "      <td>NaN</td>\n",
       "      <td>NaN</td>\n",
       "      <td>NaN</td>\n",
       "      <td>NaN</td>\n",
       "    </tr>\n",
       "  </tbody>\n",
       "</table>\n",
       "<p>1464 rows × 23 columns</p>\n",
       "</div>"
      ],
      "text/plain": [
       "                       CATEGORY (i.e.ISCED description)  \\\n",
       "0                           Business and administration   \n",
       "1                         Humanities (except languages)   \n",
       "2                                                  Arts   \n",
       "3                                                  Arts   \n",
       "4                                                  Arts   \n",
       "...                                                 ...   \n",
       "1459                       Manufacturing and processing   \n",
       "1460  Information and Communication Technologies (ICTs)   \n",
       "1461  Information and Communication Technologies (ICTs)   \n",
       "1462                                  Personal services   \n",
       "1463                 Engineering and engineering trades   \n",
       "\n",
       "                                           COURSE TITLE COURSE CODE2  \\\n",
       "0                                International Business        AC120   \n",
       "1                                          Liberal Arts        AC137   \n",
       "2      First Year Art & Design (Common Entry,portfolio)        AD101   \n",
       "3     Graphic Design and Moving Image Design (portfo...        AD102   \n",
       "4     Textile & Surface Design and Jewellery & Objec...        AD103   \n",
       "...                                                 ...          ...   \n",
       "1459                          Manufacturing Engineering        WD208   \n",
       "1460                       Software Systems Development        WD210   \n",
       "1461                                 Creative Computing        WD211   \n",
       "1462                    Recreation and Sport Management        WD212   \n",
       "1463           Mechanical and Manufacturing Engineering        WD230   \n",
       "\n",
       "     R1 POINTS R1 Random * R2 POINTS R2 Random*       EOS EOS Random *  \\\n",
       "0          209         NaN       NaN        NaN       209          NaN   \n",
       "1          252         NaN       NaN        NaN       252          NaN   \n",
       "2     #+matric         NaN       NaN        NaN  #+matric          NaN   \n",
       "3     #+matric         NaN       NaN        NaN  #+matric          NaN   \n",
       "4     #+matric         NaN       NaN        NaN  #+matric          NaN   \n",
       "...        ...         ...       ...        ...       ...          ...   \n",
       "1459       188         NaN       NaN        NaN       188          NaN   \n",
       "1460       279         NaN       NaN        NaN       279          NaN   \n",
       "1461       271         NaN       NaN        NaN       271          NaN   \n",
       "1462       270         NaN       NaN        NaN       270          NaN   \n",
       "1463       253         NaN       NaN        NaN       253          NaN   \n",
       "\n",
       "     EOS Mid-point  ...  avp    v Column1 Column2 Column3  Column4  Column5  \\\n",
       "0              280  ...  NaN  NaN     NaN     NaN     NaN      NaN      NaN   \n",
       "1              270  ...  NaN  NaN     NaN     NaN     NaN      NaN      NaN   \n",
       "2         #+matric  ...  NaN  NaN     NaN     NaN     NaN      NaN      NaN   \n",
       "3         #+matric  ...  NaN  NaN     NaN     NaN     NaN      NaN      NaN   \n",
       "4         #+matric  ...  NaN  NaN     NaN     NaN     NaN      NaN      NaN   \n",
       "...            ...  ...  ...  ...     ...     ...     ...      ...      ...   \n",
       "1459           339  ...  NaN  NaN     NaN     NaN     NaN      NaN      NaN   \n",
       "1460           337  ...  NaN  NaN     NaN     NaN     NaN      NaN      NaN   \n",
       "1461           318  ...  NaN  NaN     NaN     NaN     NaN      NaN      NaN   \n",
       "1462           349  ...  NaN  NaN     NaN     NaN     NaN      NaN      NaN   \n",
       "1463           369  ...  NaN  NaN     NaN     NaN     NaN      NaN      NaN   \n",
       "\n",
       "      Column6  Column7  Column8  \n",
       "0         NaN      NaN      NaN  \n",
       "1         NaN      NaN      NaN  \n",
       "2         NaN      NaN      NaN  \n",
       "3         NaN      NaN      NaN  \n",
       "4         NaN      NaN      NaN  \n",
       "...       ...      ...      ...  \n",
       "1459      NaN      NaN      NaN  \n",
       "1460      NaN      NaN      NaN  \n",
       "1461      NaN      NaN      NaN  \n",
       "1462      NaN      NaN      NaN  \n",
       "1463      NaN      NaN      NaN  \n",
       "\n",
       "[1464 rows x 23 columns]"
      ]
     },
     "execution_count": 11,
     "metadata": {},
     "output_type": "execute_result"
    }
   ],
   "source": [
    "df"
   ]
  },
  {
   "cell_type": "code",
   "execution_count": 12,
   "metadata": {},
   "outputs": [
    {
     "data": {
      "text/plain": [
       "CATEGORY (i.e.ISCED description)    Engineering and engineering trades\n",
       "COURSE TITLE                                    Mechanical Engineering\n",
       "COURSE CODE2                                                     LC288\n",
       "R1 POINTS                                                          347\n",
       "R1 Random *                                                        NaN\n",
       "R2 POINTS                                                          346\n",
       "R2 Random*                                                         NaN\n",
       "EOS                                                                346\n",
       "EOS Random *                                                       NaN\n",
       "EOS Mid-point                                                      415\n",
       "LEVEL                                                                8\n",
       "HEI                                   Limerick Institute of Technology\n",
       "Test/Interview #                                                   NaN\n",
       "avp                                                                NaN\n",
       "v                                                                  NaN\n",
       "Column1                                                            NaN\n",
       "Column2                                                            NaN\n",
       "Column3                                                            NaN\n",
       "Column4                                                            NaN\n",
       "Column5                                                            NaN\n",
       "Column6                                                            NaN\n",
       "Column7                                                            NaN\n",
       "Column8                                                            NaN\n",
       "Name: 754, dtype: object"
      ]
     },
     "execution_count": 12,
     "metadata": {},
     "output_type": "execute_result"
    }
   ],
   "source": [
    "#spotchecks with dataset \n",
    "df.iloc[754] "
   ]
  },
  {
   "cell_type": "code",
   "execution_count": 13,
   "metadata": {},
   "outputs": [
    {
     "data": {
      "text/plain": [
       "CATEGORY (i.e.ISCED description)          Engineering and engineering trades\n",
       "COURSE TITLE                        Mechanical and Manufacturing Engineering\n",
       "COURSE CODE2                                                           WD230\n",
       "R1 POINTS                                                                253\n",
       "R1 Random *                                                              NaN\n",
       "R2 POINTS                                                                NaN\n",
       "R2 Random*                                                               NaN\n",
       "EOS                                                                      253\n",
       "EOS Random *                                                             NaN\n",
       "EOS Mid-point                                                            369\n",
       "LEVEL                                                                      8\n",
       "HEI                                        Waterford Institute of Technology\n",
       "Test/Interview #                                                         NaN\n",
       "avp                                                                      NaN\n",
       "v                                                                        NaN\n",
       "Column1                                                                  NaN\n",
       "Column2                                                                  NaN\n",
       "Column3                                                                  NaN\n",
       "Column4                                                                  NaN\n",
       "Column5                                                                  NaN\n",
       "Column6                                                                  NaN\n",
       "Column7                                                                  NaN\n",
       "Column8                                                                  NaN\n",
       "Name: 1463, dtype: object"
      ]
     },
     "execution_count": 13,
     "metadata": {},
     "output_type": "execute_result"
    }
   ],
   "source": [
    "df.iloc[1463]"
   ]
  },
  {
   "cell_type": "code",
   "execution_count": 14,
   "metadata": {},
   "outputs": [],
   "source": [
    "# creating a file path for the pandas data\n",
    "path = 'data/original_cao2020_' +  nowstr + '.csv'"
   ]
  },
  {
   "cell_type": "code",
   "execution_count": 15,
   "metadata": {},
   "outputs": [],
   "source": [
    "df.to_csv(path)   #saving pandas to disk"
   ]
  },
  {
   "cell_type": "code",
   "execution_count": null,
   "metadata": {},
   "outputs": [],
   "source": []
  },
  {
   "cell_type": "code",
   "execution_count": null,
   "metadata": {},
   "outputs": [],
   "source": []
  }
 ],
 "metadata": {
  "kernelspec": {
   "display_name": "Python 3",
   "language": "python",
   "name": "python3"
  },
  "language_info": {
   "codemirror_mode": {
    "name": "ipython",
    "version": 3
   },
   "file_extension": ".py",
   "mimetype": "text/x-python",
   "name": "python",
   "nbconvert_exporter": "python",
   "pygments_lexer": "ipython3",
   "version": "3.8.5"
  }
 },
 "nbformat": 4,
 "nbformat_minor": 4
}
