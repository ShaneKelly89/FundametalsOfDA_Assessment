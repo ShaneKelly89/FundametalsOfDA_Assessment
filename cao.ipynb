{
 "cells": [
  {
   "cell_type": "markdown",
   "metadata": {},
   "source": [
    "# CAO Points Notebook \n",
    "\n",
    "*** \n",
    "\n",
    "The first section within this notebook will load the CAO point for the years 2021, 2020, & 2019 and provide a clear and concise overview of how to do so.\n",
    "\n",
    "***\n",
    "\n",
    "## Loading the data"
   ]
  },
  {
   "cell_type": "code",
   "execution_count": 1,
   "metadata": {},
   "outputs": [],
   "source": [
    "# Convenient HTTP requests\n",
    "import requests as rq\n",
    "# Importing regular expressions\n",
    "import re\n",
    "import datetime as dt\n",
    "import pandas as pd\n",
    "import urllib.request as urlrq\n",
    "import matplotlib.pyplot as plt \n"
   ]
  },
  {
   "cell_type": "code",
   "execution_count": 2,
   "metadata": {},
   "outputs": [],
   "source": [
    "#current date and time.\n",
    "now = dt.datetime.now()\n",
    "\n",
    "# Format the above as a string.\n",
    "nowstr = now.strftime('%Y%m%d_%H%M%S')"
   ]
  },
  {
   "cell_type": "markdown",
   "metadata": {},
   "source": [
    "## 2021 Data "
   ]
  },
  {
   "cell_type": "code",
   "execution_count": 3,
   "metadata": {},
   "outputs": [
    {
     "data": {
      "text/plain": [
       "<Response [200]>"
      ]
     },
     "execution_count": 3,
     "metadata": {},
     "output_type": "execute_result"
    }
   ],
   "source": [
    "# First need to use 'requests' to pull the 2021\n",
    "resp = rq.get('http://www2.cao.ie/points/l8.php')\n",
    "\n",
    "# check\n",
    "resp"
   ]
  },
  {
   "cell_type": "markdown",
   "metadata": {},
   "source": [
    "### Saving the original data set \n",
    "\n",
    "***"
   ]
  },
  {
   "cell_type": "code",
   "execution_count": 4,
   "metadata": {},
   "outputs": [],
   "source": [
    "path = 'data/original_cao2021_' +  nowstr + '.html'"
   ]
  },
  {
   "cell_type": "code",
   "execution_count": 5,
   "metadata": {},
   "outputs": [],
   "source": [
    "# the server uses the wrong encoding, fixing it.\n",
    "\n",
    "original_encoding = resp.encoding\n",
    "#changing it to cp1252\n",
    "\n",
    "resp.encoding = 'cp1252'\n",
    "\n",
    "# save the original file\n",
    "\n",
    "with open(path, 'w') as f:\n",
    "    f.write(resp.text)"
   ]
  },
  {
   "cell_type": "markdown",
   "metadata": {},
   "source": [
    "### Using regular expression"
   ]
  },
  {
   "cell_type": "code",
   "execution_count": 6,
   "metadata": {},
   "outputs": [],
   "source": [
    "#compile regular expression for matching lines. \n",
    "# this will make the code below more efficient \n",
    "re_course = re.compile(r'([A-Z]{2}[0-9]{3})  (.*)([0-9]{3})(\\*?) *')"
   ]
  },
  {
   "cell_type": "code",
   "execution_count": 7,
   "metadata": {
    "scrolled": true
   },
   "outputs": [
    {
     "name": "stdout",
     "output_type": "stream",
     "text": [
      "The total number of lines is 922.\n"
     ]
    }
   ],
   "source": [
    "path = 'data/cao2021_' +  nowstr + '.csv'\n",
    "\n",
    "no_lines = 0 \n",
    "#looping through the lines of the response content.\n",
    "with open(path, 'w') as f:\n",
    "\n",
    "    for line in resp.iter_lines():\n",
    "        dline = line.decode('cp1252')\n",
    "    # cleaning the data to get only the lines we need, which are the ones representing courses.\n",
    "        if re_course.fullmatch(dline):\n",
    "            no_lines = no_lines + 1\n",
    "            #print(line)\n",
    "            csv_version = re_course.sub(r'\\1,\\2,\\3,\\4', dline)\n",
    "            #print(csv_version)\n",
    "            #split the line on two or more spaces\n",
    "            linesplit = re.split(' +,', dline)\n",
    "            #print(','.join(linesplit))\n",
    "            f.write(','.join(linesplit) + '\\n')\n",
    "print(f\"The total number of lines is {no_lines}.\")"
   ]
  },
  {
   "cell_type": "code",
   "execution_count": null,
   "metadata": {},
   "outputs": [],
   "source": []
  }
 ],
 "metadata": {
  "kernelspec": {
   "display_name": "Python 3",
   "language": "python",
   "name": "python3"
  },
  "language_info": {
   "codemirror_mode": {
    "name": "ipython",
    "version": 3
   },
   "file_extension": ".py",
   "mimetype": "text/x-python",
   "name": "python",
   "nbconvert_exporter": "python",
   "pygments_lexer": "ipython3",
   "version": "3.8.5"
  }
 },
 "nbformat": 4,
 "nbformat_minor": 4
}
