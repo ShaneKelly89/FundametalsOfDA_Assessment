{
 "cells": [
  {
   "cell_type": "markdown",
   "metadata": {},
   "source": [
    "# Overview of Matplotlib \n",
    "\n",
    "This Jupyter notebook will set out to firstly provide a clear and concise overview of matplotlib.pyplot. Once this is done, I will then put this overview into practice with an in-depth exploration of three interesting plots within matplotlib. \n",
    "\n",
    "![](https://ehikioya.com/wp-content/uploads/2020/02/logo2_compressed.png)\n",
    "\n",
    "[Matplotlib Documentation](https://matplotlib.org/stable/contents.html) \n",
    "\n",
    "***\n",
    "\n",
    "### What  is matplotlib? \n",
    "\n",
    "matplotlib is popular Python package used for data representation and visualisation. It is a cross-platform library used for making 2D plots in arrays [1]. Matplotlib was developed and created by John D Hunt, and is an open source, free package [2]. The source code is available at this github repository [Matplotlib source code](https://github.com/matplotlib/matplotlib) \n",
    "\n",
    "For anybody interested, further information and history about matplotlib can be found [here](https://matplotlib.org/stable/users/history.html) [3].\n",
    "\n",
    "***\n",
    "\n",
    "### Installing & Importing matplotlib \n",
    "\n",
    "<u>_Installation_</u> \n",
    "\n",
    "The matplotlib package is available as a wheel package within python. It can be instaled by running the below command [4]: \n",
    "\n",
    "```\n",
    "python -m pip install -U pip\n",
    "python -m pip install -U matplotlib\n",
    "```\n",
    "\n",
    "<u>_Importing_</u>\n",
    "\n",
    "To import matplotlib on python, simply use the command _import_ followed by matplotlib. You can also run a command to check what version of the package you are running, as shown below [5]. \n",
    "\n",
    "Most of matplotlib utilities lie within the 'pyplot' submodule [6]. As shown below, matplotlib.pyplot is importanted _as_ plt, as is common practice. Pyplot is mainly intended for interactive plots and simple cases of programmatic plot generation [7]. Further and more indepth information about the pylot interface can be found [here](https://matplotlib.org/stable/tutorials/introductory/pyplot.html#)\n",
    "\n",
    "When using matplotlib, the NumPy package is also utilised,  which is Python library used when working with arrays [8] The command to import NumPy, which is often importanted as 'np' is also shown below. For further information about Numpy, click [here](https://numpy.org/doc/stable/user/whatisnumpy.html) \n",
    "\n"
   ]
  },
  {
   "cell_type": "code",
   "execution_count": 5,
   "metadata": {},
   "outputs": [
    {
     "name": "stdout",
     "output_type": "stream",
     "text": [
      "3.3.2\n"
     ]
    }
   ],
   "source": [
    "import matplotlib \n",
    "print(matplotlib.__version__)\n",
    "\n",
    "import matplotlib.pyplot as plt \n",
    "import numpy as np"
   ]
  },
  {
   "cell_type": "markdown",
   "metadata": {},
   "source": [
    "*** \n",
    "\n",
    "### Plotting \n",
    "\n",
    "As previousy mentioned, matplotlib.pyplot is used for data visualisation using plots. This is carried out by plotting two paramaters on two seperated axis'. Paramater 1 is an array containing the points on the __x-axis__. Parameter 2 is an array containg the points on the __y-axis__ [9]. \n",
    "\n",
    "The plot() function is used to plot the points in the diagram, and will create a line point to point. \n",
    "\n",
    "Now lets look at creating a simple plot. \n",
    "\n",
    "pyplot has a number of functions which can be used when plotting data. An extensive list of these functions and how to call them can be found [here](https://matplotlib.org/stable/api/pyplot_summary.html) [10]."
   ]
  },
  {
   "cell_type": "code",
   "execution_count": 9,
   "metadata": {},
   "outputs": [
    {
     "data": {
      "image/png": "[encoded data removed]",
      "text/plain": [
       "<Figure size 432x288 with 1 Axes>"
      ]
     },
     "metadata": {
      "needs_background": "light"
     },
     "output_type": "display_data"
    }
   ],
   "source": [
    "x= [2,4,6,8] \n",
    "y= [0.2, 0.4, 0.6, 0.8]\n",
    "plt.plot(x,y)\n",
    "plt.show()"
   ]
  },
  {
   "cell_type": "markdown",
   "metadata": {},
   "source": [
    "Now we can try some of the pyplot functions to add to and change the look of the above plot. A number of ways to changing how we represent our data can be found by looking through the 'Python Matplotlib' documents [here](https://www.w3schools.com/python/matplotlib_markers.asp) [11]."
   ]
  },
  {
   "cell_type": "code",
   "execution_count": 12,
   "metadata": {},
   "outputs": [
    {
     "data": {
      "image/png": "[encoded data removed]",
      "text/plain": [
       "<Figure size 432x288 with 1 Axes>"
      ]
     },
     "metadata": {
      "needs_background": "light"
     },
     "output_type": "display_data"
    }
   ],
   "source": [
    "x = [2,4,6,8]\n",
    "y = [0.2, 0.4, 0.6, 0.8]\n",
    "plt.plot(x,y, marker = 'o', linestyle = 'dashed')\n",
    "plt.xlabel(\"X-Axis\")\n",
    "plt.ylabel(\"Y-Axis\")\n",
    "plt.grid()\n",
    "plt.show()"
   ]
  },
  {
   "cell_type": "code",
   "execution_count": null,
   "metadata": {},
   "outputs": [],
   "source": []
  },
  {
   "cell_type": "code",
   "execution_count": null,
   "metadata": {},
   "outputs": [],
   "source": []
  },
  {
   "cell_type": "code",
   "execution_count": null,
   "metadata": {},
   "outputs": [],
   "source": []
  },
  {
   "cell_type": "code",
   "execution_count": null,
   "metadata": {},
   "outputs": [],
   "source": []
  },
  {
   "cell_type": "code",
   "execution_count": null,
   "metadata": {},
   "outputs": [],
   "source": []
  },
  {
   "cell_type": "code",
   "execution_count": null,
   "metadata": {},
   "outputs": [],
   "source": []
  },
  {
   "cell_type": "code",
   "execution_count": null,
   "metadata": {},
   "outputs": [],
   "source": []
  },
  {
   "cell_type": "markdown",
   "metadata": {},
   "source": [
    "## References\n",
    "\n",
    " - https://www.tutorialspoint.com/matplotlib/matplotlib_introduction.htm [1] \n",
    " - https://www.w3schools.com/python/matplotlib_intro.asp [2]\n",
    " - https://matplotlib.org/stable/users/history.html [3]\n",
    " - https://matplotlib.org/stable/users/installing.html [4]\n",
    " - https://www.w3schools.com/python/matplotlib_getting_started.asp [5]\n",
    " - https://www.w3schools.com/python/matplotlib_pyplot.asp [6]\n",
    " - https://matplotlib.org/stable/api/_as_gen/matplotlib.pyplot.html [7]\n",
    " - https://matplotlib.org/stable/tutorials/introductory/pyplot.html# [8]\n",
    " - https://www.w3schools.com/python/matplotlib_plotting.asp [9]\n",
    " - https://matplotlib.org/stable/api/pyplot_summary.html [10]\n",
    " - https://www.w3schools.com/python/matplotlib_markers.asp [11]\n",
    " \n",
    " "
   ]
  },
  {
   "cell_type": "code",
   "execution_count": null,
   "metadata": {},
   "outputs": [],
   "source": []
  },
  {
   "cell_type": "code",
   "execution_count": null,
   "metadata": {},
   "outputs": [],
   "source": []
  }
 ],
 "metadata": {
  "kernelspec": {
   "display_name": "Python 3",
   "language": "python",
   "name": "python3"
  },
  "language_info": {
   "codemirror_mode": {
    "name": "ipython",
    "version": 3
   },
   "file_extension": ".py",
   "mimetype": "text/x-python",
   "name": "python",
   "nbconvert_exporter": "python",
   "pygments_lexer": "ipython3",
   "version": "3.8.5"
  }
 },
 "nbformat": 4,
 "nbformat_minor": 4
}
